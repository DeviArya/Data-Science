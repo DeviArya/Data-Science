{
  "nbformat": 4,
  "nbformat_minor": 0,
  "metadata": {
    "colab": {
      "provenance": [],
      "include_colab_link": true
    },
    "kernelspec": {
      "name": "python3",
      "display_name": "Python 3"
    },
    "language_info": {
      "name": "python"
    }
  },
  "cells": [
    {
      "cell_type": "markdown",
      "metadata": {
        "id": "view-in-github",
        "colab_type": "text"
      },
      "source": [
        "<a href=\"https://colab.research.google.com/github/DeviArya/Data-Science/blob/main/NUMPY_PRACTICE_.ipynb\" target=\"_parent\"><img src=\"https://colab.research.google.com/assets/colab-badge.svg\" alt=\"Open In Colab\"/></a>"
      ]
    },
    {
      "cell_type": "markdown",
      "source": [
        "## Numpy basic Operators\n",
        "1. np.arraay([1,2,3]) ---> 1D array\n",
        "2. np.array([(1,2,3),(4,5,6)])--->2D array\n",
        "3. np.arange(start,stop,step)---> range array\n",
        "\n",
        "##Placeholders operation\n",
        "\n",
        "1. np.linspace(0,2,9)-->add evenly spaced values b/w intervel to the array of length\n",
        "2. np.zeros((1,2))\n",
        "3. np.ones((1,2))\n",
        "4. np.random.random((5,6))\n",
        "5. np.empty((2,2))\n",
        "\n",
        "##Array\n",
        "\n",
        "1. array.shape\n",
        "2. len(array)\n",
        "3. array.ndim\n",
        "4. array.dtype\n",
        "5. array.astype(type)-->covert to datatpe\n",
        "6. type(array)\n",
        "\n",
        "##copying/sorting\n",
        "\n",
        "1. np.copy(array)\n",
        "2. array2=array.copy()\n",
        "3. array.sort()\n",
        "4. array.sort(axis=0)\n",
        "\n",
        "#Array manipulation\n",
        "\n",
        "##adding or removing elements\n",
        "\n",
        "1. np.append(a,b)\n",
        "2. np.insert(arrray,1,2,axis)\n",
        "3. np.resize((2,4))\n",
        "4. np.delete(array,1,axis)\n",
        "\n",
        "##Combining arrays\n",
        "\n",
        "1. np.concatenate((a,b),axis=0)\n",
        "2. np.vstack((a,b))\n",
        "3. np.hstack((a,b))\n",
        "\n",
        "##Splitting array\n",
        "\n",
        "numpy.split()\n",
        "np.array_split(array,3)\n",
        "numpy.hsplit(array,3)\n",
        "\n",
        "##more\n",
        "\n",
        "1. arr1=array.flattern()\n",
        "2. arr=np.transpose(array1) or arr.T\n",
        "3. inverse=np.linalg.iv=nv(arr)\n",
        "\n",
        "\n",
        "#Mathematics\n",
        "##Opertors\n",
        "1. np.add(x,y)\n",
        "2. np.substract(x,y)\n",
        "3. np.divide(x,y)\n",
        "4. np.multiply(x,y)\n",
        "5. np.sqrt(x)\n",
        "6. np.sin(x)\n",
        "7. np.cos(x)\n",
        "8. np.log(x)\n",
        "9. np.dot(x,y)\n",
        "10. np.root(1,0,-4)--> polinomial coefficients\n",
        "\n",
        "## Comparison\n",
        "\n",
        "1. ==,!=,<,>,<=,>=\n",
        "2. np.array_equal(x,y)\n",
        "\n",
        "##Basic stat\n",
        "\n",
        "1. np.mean(arr)\n",
        "2. np.median(arr)\n",
        "3. npstd(arr)\n",
        "4. array.corrcoef()\n",
        "\n",
        "## More\n",
        "1. array.sum()\n",
        "2. array.min()\n",
        "3. array.max(axis=0)\n",
        "4. array.cumsum(axis=0)-->cumulative sum"
      ],
      "metadata": {
        "id": "UqqWxkLc0Wtz"
      }
    },
    {
      "cell_type": "markdown",
      "source": [
        "1. Write a Numpy program to get the Numpy version and show the Numpy build configuration."
      ],
      "metadata": {
        "id": "-ftZ4I_60KS7"
      }
    },
    {
      "cell_type": "code",
      "execution_count": null,
      "metadata": {
        "id": "jVywQX0q0HS5",
        "colab": {
          "base_uri": "https://localhost:8080/"
        },
        "outputId": "e8f55010-ac1a-4408-a7b4-9ef9d84a80f3"
      },
      "outputs": [
        {
          "output_type": "stream",
          "name": "stdout",
          "text": [
            "1.25.2\n",
            "openblas64__info:\n",
            "    libraries = ['openblas64_', 'openblas64_']\n",
            "    library_dirs = ['/usr/local/lib']\n",
            "    language = c\n",
            "    define_macros = [('HAVE_CBLAS', None), ('BLAS_SYMBOL_SUFFIX', '64_'), ('HAVE_BLAS_ILP64', None)]\n",
            "    runtime_library_dirs = ['/usr/local/lib']\n",
            "blas_ilp64_opt_info:\n",
            "    libraries = ['openblas64_', 'openblas64_']\n",
            "    library_dirs = ['/usr/local/lib']\n",
            "    language = c\n",
            "    define_macros = [('HAVE_CBLAS', None), ('BLAS_SYMBOL_SUFFIX', '64_'), ('HAVE_BLAS_ILP64', None)]\n",
            "    runtime_library_dirs = ['/usr/local/lib']\n",
            "openblas64__lapack_info:\n",
            "    libraries = ['openblas64_', 'openblas64_']\n",
            "    library_dirs = ['/usr/local/lib']\n",
            "    language = c\n",
            "    define_macros = [('HAVE_CBLAS', None), ('BLAS_SYMBOL_SUFFIX', '64_'), ('HAVE_BLAS_ILP64', None), ('HAVE_LAPACKE', None)]\n",
            "    runtime_library_dirs = ['/usr/local/lib']\n",
            "lapack_ilp64_opt_info:\n",
            "    libraries = ['openblas64_', 'openblas64_']\n",
            "    library_dirs = ['/usr/local/lib']\n",
            "    language = c\n",
            "    define_macros = [('HAVE_CBLAS', None), ('BLAS_SYMBOL_SUFFIX', '64_'), ('HAVE_BLAS_ILP64', None), ('HAVE_LAPACKE', None)]\n",
            "    runtime_library_dirs = ['/usr/local/lib']\n",
            "Supported SIMD extensions in this NumPy install:\n",
            "    baseline = SSE,SSE2,SSE3\n",
            "    found = SSSE3,SSE41,POPCNT,SSE42,AVX,F16C,FMA3,AVX2\n",
            "    not found = AVX512F,AVX512CD,AVX512_KNL,AVX512_KNM,AVX512_SKX,AVX512_CLX,AVX512_CNL,AVX512_ICL\n",
            "None\n"
          ]
        }
      ],
      "source": [
        "# importing the Numpy library with an alias 'np'\n",
        "import numpy as np\n",
        "\n",
        "#printing the version of Numpy installed\n",
        "print(np.__version__)\n",
        "\n",
        "#printing the configuration details of Numpy\n",
        "print(np.show_config())"
      ]
    },
    {
      "cell_type": "markdown",
      "source": [
        "2. Write a NumPy program to get help with the add function."
      ],
      "metadata": {
        "id": "Zds2oEAZ1YqF"
      }
    },
    {
      "cell_type": "code",
      "source": [
        "# importing numpy as np\n",
        "import numpy as np\n",
        "\n",
        "#printing inf about the np.add function by using np.info()\n",
        "print(np.info(np.add))"
      ],
      "metadata": {
        "colab": {
          "base_uri": "https://localhost:8080/"
        },
        "id": "3cOYMIN91cXa",
        "outputId": "6286ba5b-9501-41e0-9aae-bec49fc7fef0"
      },
      "execution_count": null,
      "outputs": [
        {
          "output_type": "stream",
          "name": "stdout",
          "text": [
            "add(x1, x2, /, out=None, *, where=True, casting='same_kind', order='K', dtype=None, subok=True[, signature, extobj])\n",
            "\n",
            "Add arguments element-wise.\n",
            "\n",
            "Parameters\n",
            "----------\n",
            "x1, x2 : array_like\n",
            "    The arrays to be added.\n",
            "    If ``x1.shape != x2.shape``, they must be broadcastable to a common\n",
            "    shape (which becomes the shape of the output).\n",
            "out : ndarray, None, or tuple of ndarray and None, optional\n",
            "    A location into which the result is stored. If provided, it must have\n",
            "    a shape that the inputs broadcast to. If not provided or None,\n",
            "    a freshly-allocated array is returned. A tuple (possible only as a\n",
            "    keyword argument) must have length equal to the number of outputs.\n",
            "where : array_like, optional\n",
            "    This condition is broadcast over the input. At locations where the\n",
            "    condition is True, the `out` array will be set to the ufunc result.\n",
            "    Elsewhere, the `out` array will retain its original value.\n",
            "    Note that if an uninitialized `out` array is created via the default\n",
            "    ``out=None``, locations within it where the condition is False will\n",
            "    remain uninitialized.\n",
            "**kwargs\n",
            "    For other keyword-only arguments, see the\n",
            "    :ref:`ufunc docs <ufuncs.kwargs>`.\n",
            "\n",
            "Returns\n",
            "-------\n",
            "add : ndarray or scalar\n",
            "    The sum of `x1` and `x2`, element-wise.\n",
            "    This is a scalar if both `x1` and `x2` are scalars.\n",
            "\n",
            "Notes\n",
            "-----\n",
            "Equivalent to `x1` + `x2` in terms of array broadcasting.\n",
            "\n",
            "Examples\n",
            "--------\n",
            ">>> np.add(1.0, 4.0)\n",
            "5.0\n",
            ">>> x1 = np.arange(9.0).reshape((3, 3))\n",
            ">>> x2 = np.arange(3.0)\n",
            ">>> np.add(x1, x2)\n",
            "array([[  0.,   2.,   4.],\n",
            "       [  3.,   5.,   7.],\n",
            "       [  6.,   8.,  10.]])\n",
            "\n",
            "The ``+`` operator can be used as a shorthand for ``np.add`` on ndarrays.\n",
            "\n",
            ">>> x1 = np.arange(9.0).reshape((3, 3))\n",
            ">>> x2 = np.arange(3.0)\n",
            ">>> x1 + x2\n",
            "array([[ 0.,  2.,  4.],\n",
            "       [ 3.,  5.,  7.],\n",
            "       [ 6.,  8., 10.]])\n",
            "None\n"
          ]
        }
      ]
    },
    {
      "cell_type": "markdown",
      "source": [
        "3. Write a NumPy program to test whether none of the elements of a given array are zero."
      ],
      "metadata": {
        "id": "HSG8PVbM2Aoa"
      }
    },
    {
      "cell_type": "code",
      "source": [
        "# Importing the NumPy library with an alias 'np'\n",
        "import numpy as np\n",
        "\n",
        "# Creating a NumPy array 'x' containing elements 1, 2, 3, and 4\n",
        "x = np.array([1, 2, 3, 4])\n",
        "\n",
        "# Printing the original array 'x'\n",
        "print(\"Original array:\")\n",
        "print(x)\n",
        "\n",
        "# Checking if none of the elements in the array 'x' is zero and printing the result\n",
        "print(\"Test if none of the elements of the said array is zero:\")\n",
        "print(np.all(x))\n",
        "\n",
        "# Reassigning array 'x' to a new array containing elements 0, 1, 2, and 3\n",
        "x = np.array([0, 1, 2, 3])\n",
        "\n",
        "# Printing the new array 'x'\n",
        "print(\"Original array:\")\n",
        "print(x)\n",
        "\n",
        "# Checking if none of the elements in the updated array 'x' is zero and printing the result\n",
        "print(\"Test if none of the elements of the said array is zero:\")\n",
        "print(np.all(x))"
      ],
      "metadata": {
        "colab": {
          "base_uri": "https://localhost:8080/"
        },
        "id": "7TlPOxyn2AST",
        "outputId": "3d6f00cc-9aa5-41cc-b9ce-63fd2848c814"
      },
      "execution_count": null,
      "outputs": [
        {
          "output_type": "stream",
          "name": "stdout",
          "text": [
            "Original array:\n",
            "[1 2 3 4]\n",
            "Test if none of the elements of the said array is zero:\n",
            "True\n",
            "Original array:\n",
            "[0 1 2 3]\n",
            "Test if none of the elements of the said array is zero:\n",
            "False\n"
          ]
        }
      ]
    },
    {
      "cell_type": "markdown",
      "source": [
        "4. Write a NumPy program to test if any of the elements of a given array are non-zero."
      ],
      "metadata": {
        "id": "h5hj1osW3TUg"
      }
    },
    {
      "cell_type": "code",
      "source": [
        "# Write a NumPy program to test if any of the elements of a given array are non-zero.\n",
        "\n",
        "import numpy as np\n",
        "\n",
        "# Create a NumPy array 'x' containing elements 1, 2, 3, and 4\n",
        "x = np.array([1, 2, 3, 4])\n",
        "\n",
        "# Print the original array 'x'\n",
        "print(\"Original array:\")\n",
        "print(x)\n",
        "\n",
        "# Check if any of the elements in the array 'x' are non-zero and print the result\n",
        "print(\"Test if any of the elements of the said array are non-zero:\")\n",
        "print(np.any(x))\n",
        "\n",
        "# Reassign array 'x' to a new array containing elements 0, 0, 0, and 0\n",
        "x = np.array([0, 0, 0, 0])\n",
        "\n",
        "# Print the new array 'x'\n",
        "print(\"Original array:\")\n",
        "print(x)\n",
        "\n",
        "# Check if any of the elements in the updated array 'x' are non-zero and print the result\n",
        "print(\"Test if any of the elements of the said array are non-zero:\")\n",
        "print(np.any(x))\n"
      ],
      "metadata": {
        "colab": {
          "base_uri": "https://localhost:8080/"
        },
        "id": "9eZ7uvoR3Vcf",
        "outputId": "ec296093-2736-4220-8756-e7fcbfc77501"
      },
      "execution_count": null,
      "outputs": [
        {
          "output_type": "stream",
          "name": "stdout",
          "text": [
            "Original array:\n",
            "[1 2 3 4]\n",
            "Test if any of the elements of the said array are non-zero:\n",
            "True\n",
            "Original array:\n",
            "[0 0 0 0]\n",
            "Test if any of the elements of the said array are non-zero:\n",
            "False\n"
          ]
        }
      ]
    },
    {
      "cell_type": "markdown",
      "source": [
        "5. Write a NumPy program to test a given array element-wise for finiteness (not infinity or not a number)."
      ],
      "metadata": {
        "id": "NUfLp8-74X08"
      }
    },
    {
      "cell_type": "code",
      "source": [
        "#5. Write a NumPy program to test a given array element-wise for finiteness (not infinity or not a number).\n",
        "\n",
        "import numpy as np\n",
        "\n",
        "# Create a NumPy array 'x' containing elements 1, 2, 3, and 4\n",
        "x = np.array([1, 2, 3, 4])\n",
        "\n",
        "# Print the original array 'x'\n",
        "print(\"Original array:\")\n",
        "print(x)\n",
        "\n",
        "# Test element-wise for finiteness (not infinity or not a number) and print the result\n",
        "print(\"Test element-wise for finiteness:\")\n",
        "print(np.isfinite(x))\n",
        "\n",
        "# Reassign array 'x' to a new array containing elements 1, 2, 3, and infinity\n",
        "x = np.array([1, 2, 3, np.inf])\n",
        "\n",
        "# Print the new array 'x'\n",
        "print(\"Original array:\")\n",
        "print(x)\n",
        "\n",
        "# Test element-wise for finiteness and print the result\n",
        "print(\"Test element-wise for finiteness:\")\n",
        "print(np.isfinite(x))\n"
      ],
      "metadata": {
        "colab": {
          "base_uri": "https://localhost:8080/"
        },
        "id": "fb4nna-74Xfp",
        "outputId": "4fdd9673-d9f6-4485-82d3-7ad6bb4a5c49"
      },
      "execution_count": null,
      "outputs": [
        {
          "output_type": "stream",
          "name": "stdout",
          "text": [
            "Original array:\n",
            "[1 2 3 4]\n",
            "Test element-wise for finiteness:\n",
            "[ True  True  True  True]\n",
            "Original array:\n",
            "[ 1.  2.  3. inf]\n",
            "Test element-wise for finiteness:\n",
            "[ True  True  True False]\n"
          ]
        }
      ]
    },
    {
      "cell_type": "markdown",
      "source": [
        "6. Write a NumPy program to test elements-wise for positive or negative infinity."
      ],
      "metadata": {
        "id": "xQzaRADA419s"
      }
    },
    {
      "cell_type": "code",
      "source": [
        "#6. Write a NumPy program to test elements-wise for positive or negative infinity.\n",
        "\n",
        "import numpy as np\n",
        "\n",
        "# Create a NumPy array 'x' containing elements 1, 2, 3, and infinity\n",
        "x = np.array([1, 2, 3, np.inf])\n",
        "\n",
        "# Print the original array 'x'\n",
        "print(\"Original array:\")\n",
        "print(x)\n",
        "\n",
        "# Test element-wise for positive infinity and print the result\n",
        "print(\"Test element-wise for positive infinity:\")\n",
        "print(np.isposinf(x))\n",
        "\n",
        "# Test element-wise for negative infinity and print the result\n",
        "print(\"Test element-wise for negative infinity:\")\n",
        "print(np.isneginf(x))\n",
        "\n",
        "# Reassign array 'x' to a new array containing elements 1, 2, 3, and -infinity\n",
        "x = np.array([1, 2, 3, -np.inf])\n",
        "\n",
        "# Print the new array 'x'\n",
        "print(\"Original array:\")\n",
        "print(x)\n",
        "\n",
        "# Test element-wise for positive infinity and print the result\n",
        "print(\"Test element-wise for positive infinity:\")\n",
        "print(np.isposinf(x))\n",
        "\n",
        "# Test element-wise for negative infinity and print the result\n",
        "print(\"Test element-wise for negative infinity:\")\n",
        "print(np.isneginf(x))\n"
      ],
      "metadata": {
        "colab": {
          "base_uri": "https://localhost:8080/"
        },
        "id": "IIoZiHZX48dj",
        "outputId": "af7134ea-b54b-4517-f2ae-605b98d9d751"
      },
      "execution_count": null,
      "outputs": [
        {
          "output_type": "stream",
          "name": "stdout",
          "text": [
            "Original array:\n",
            "[ 1.  2.  3. inf]\n",
            "Test element-wise for positive infinity:\n",
            "[False False False  True]\n",
            "Test element-wise for negative infinity:\n",
            "[False False False False]\n",
            "Original array:\n",
            "[  1.   2.   3. -inf]\n",
            "Test element-wise for positive infinity:\n",
            "[False False False False]\n",
            "Test element-wise for negative infinity:\n",
            "[False False False  True]\n"
          ]
        }
      ]
    },
    {
      "cell_type": "markdown",
      "source": [
        "7. Write a NumPy program to test element-wise for NaN of a given array."
      ],
      "metadata": {
        "id": "EuPx1NYH5TlH"
      }
    },
    {
      "cell_type": "code",
      "source": [
        "#7. Write a NumPy program to test element-wise for NaN of a given array.\n",
        "\n",
        "# Import the NumPy library with an alias 'np'\n",
        "import numpy as np\n",
        "\n",
        "# Create a NumPy array 'x' containing elements 1, 2, 3, and NaN\n",
        "x = np.array([1, 2, 3, np.nan])\n",
        "\n",
        "# Print the original array 'x'\n",
        "print(\"Original array:\")\n",
        "print(x)\n",
        "\n",
        "# Test element-wise for NaN and print the result\n",
        "print(\"Test element-wise for NaN:\")\n",
        "print(np.isnan(x))\n",
        "\n",
        "# Reassign array 'x' to a new array containing elements 1, 2, 3, and infinity\n",
        "x = np.array([1, 2, 3, np.inf])\n",
        "\n",
        "# Print the new array 'x'\n",
        "print(\"Original array:\")\n",
        "print(x)\n",
        "\n",
        "# Test element-wise for NaN and print the result\n",
        "print(\"Test element-wise for NaN:\")\n",
        "print(np.isnan(x))\n"
      ],
      "metadata": {
        "colab": {
          "base_uri": "https://localhost:8080/"
        },
        "id": "MqgKD5Kt5TPX",
        "outputId": "b9127350-cacc-4317-c7bd-258f7b1a2f70"
      },
      "execution_count": null,
      "outputs": [
        {
          "output_type": "stream",
          "name": "stdout",
          "text": [
            "Original array:\n",
            "[ 1.  2.  3. nan]\n",
            "Test element-wise for NaN:\n",
            "[False False False  True]\n",
            "Original array:\n",
            "[ 1.  2.  3. inf]\n",
            "Test element-wise for NaN:\n",
            "[False False False False]\n"
          ]
        }
      ]
    },
    {
      "cell_type": "markdown",
      "source": [
        "8. Write a NumPy program to test element-wise for complex numbers, real numbers in a given array. Also test if a given number is of a scalar type or not."
      ],
      "metadata": {
        "id": "pCIb9gwp5kIs"
      }
    },
    {
      "cell_type": "code",
      "source": [
        "#8. Write a NumPy program to test element-wise for complex numbers, real numbers in a given array. Also test if a given number is of a scalar type or not.\n",
        "\n",
        "import numpy as np\n",
        "\n",
        "# Create a NumPy array 'x' containing elements 1, 2, 3, and 4\n",
        "x = np.array([1, 2, 3, 4])\n",
        "\n",
        "# Print the original array 'x'\n",
        "print(\"Original array:\")\n",
        "print(x)\n",
        "\n",
        "# Test element-wise for complex numbers and print the result\n",
        "print(\"Test element-wise for complex numbers:\")\n",
        "print(np.iscomplex(x))\n",
        "\n",
        "# Test element-wise for real numbers and print the result\n",
        "print(\"Test element-wise for real numbers:\")\n",
        "print(np.isreal(x))\n",
        "\n",
        "# Test if the given number 1 is of a scalar type and print the result\n",
        "print(\"Test if the given number 1 is of a scalar type:\")\n",
        "print(np.isscalar(1))\n",
        "\n",
        "# Reassign array 'x' to a new array containing elements 1, 2, 3, and 4j\n",
        "x = np.array([1, 2, 3, 4j])\n",
        "\n",
        "# Print the new array 'x'\n",
        "print(\"Original array:\")\n",
        "print(x)\n",
        "\n",
        "# Test element-wise for complex numbers and print the result\n",
        "print(\"Test element-wise for complex numbers:\")\n",
        "print(np.iscomplex(x))\n",
        "\n",
        "# Test element-wise for real numbers and print the result\n",
        "print(\"Test element-wise for real numbers:\")\n",
        "print(np.isreal(x))\n",
        "\n",
        "# Test if the given number 1j is of a scalar type and print the result\n",
        "print(\"Test if the given number 1j is of a scalar type:\")\n",
        "print(np.isscalar(1j))\n"
      ],
      "metadata": {
        "colab": {
          "base_uri": "https://localhost:8080/"
        },
        "id": "zfpAZ7685j1o",
        "outputId": "98e6eb36-e95a-4c9c-9c9c-ec6376d1c123"
      },
      "execution_count": null,
      "outputs": [
        {
          "output_type": "stream",
          "name": "stdout",
          "text": [
            "Original array:\n",
            "[1 2 3 4]\n",
            "Test element-wise for complex numbers:\n",
            "[False False False False]\n",
            "Test element-wise for real numbers:\n",
            "[ True  True  True  True]\n",
            "Test if the given number 1 is of a scalar type:\n",
            "True\n",
            "Original array:\n",
            "[1.+0.j 2.+0.j 3.+0.j 0.+4.j]\n",
            "Test element-wise for complex numbers:\n",
            "[False False False  True]\n",
            "Test element-wise for real numbers:\n",
            "[ True  True  True False]\n",
            "Test if the given number 1j is of a scalar type:\n",
            "True\n"
          ]
        }
      ]
    },
    {
      "cell_type": "markdown",
      "source": [
        "9. Write a NumPy program to test whether two arrays are element-wise equal within a tolerance."
      ],
      "metadata": {
        "id": "ZX7tQ1iD57nk"
      }
    },
    {
      "cell_type": "code",
      "source": [
        "# 9. Write a NumPy program to test whether two arrays are element-wise equal within a tolerance.\n",
        "\n",
        "import numpy as np\n",
        "\n",
        "# Create two NumPy arrays 'x' and 'y'\n",
        "x = np.array([1, 2, 3, 4])\n",
        "y = np.array([1.0001, 2.0002, 3.0003, 4.0004])\n",
        "\n",
        "# Print the original arrays\n",
        "print(\"Original arrays:\")\n",
        "print(x)\n",
        "print(y)\n",
        "\n",
        "# Test element-wise for equality within a tolerance of 0.0005 and print the result\n",
        "print(\"Test element-wise for equality within a tolerance of 0.0005:\")\n",
        "print(np.allclose(x, y, atol=0.0005))\n",
        "\n",
        "# Change the tolerance to 0.0004 and print the result\n",
        "print(\"Test element-wise for equality within a tolerance of 0.0004:\")\n",
        "print(np.allclose(x, y, atol=0.0001))\n"
      ],
      "metadata": {
        "colab": {
          "base_uri": "https://localhost:8080/"
        },
        "id": "dEFlrJpm57SW",
        "outputId": "cac3f548-2d5f-4ead-9507-138ba95f6925"
      },
      "execution_count": null,
      "outputs": [
        {
          "output_type": "stream",
          "name": "stdout",
          "text": [
            "Original arrays:\n",
            "[1 2 3 4]\n",
            "[1.0001 2.0002 3.0003 4.0004]\n",
            "Test element-wise for equality within a tolerance of 0.0005:\n",
            "True\n",
            "Test element-wise for equality within a tolerance of 0.0004:\n",
            "False\n"
          ]
        }
      ]
    },
    {
      "cell_type": "markdown",
      "source": [
        "10. Write a NumPy program to create an element-wise comparison (greater, greater_equal, less and less_equal) of two given arrays."
      ],
      "metadata": {
        "id": "Q0lp0n7d85xZ"
      }
    },
    {
      "cell_type": "code",
      "source": [
        "#0. Write a NumPy program to create an element-wise comparison (greater, greater_equal, less and less_equal) of two given arrays.\n",
        "\n",
        "import numpy as np\n",
        "\n",
        "# Create two NumPy arrays 'x' and 'y'\n",
        "x = np.array([1, 2, 3, 4])\n",
        "y = np.array([1, 2, 3, 5])\n",
        "\n",
        "# Print the original arrays\n",
        "print(\"Original arrays:\")\n",
        "print(x)\n",
        "print(y)\n",
        "\n",
        "# Create an element-wise comparison (greater) of two given arrays and print the result\n",
        "print(\"Element-wise comparison (greater):\")\n",
        "print(np.greater(x, y))\n",
        "\n",
        "# Create an element-wise comparison (greater_equal) of two given arrays and print the result\n",
        "print(\"Element-wise comparison (greater_equal):\")\n",
        "print(np.greater_equal(x, y))\n",
        "\n",
        "# Create an element-wise comparison (less) of two given arrays and print the result\n",
        "print(\"Element-wise comparison (less):\")\n",
        "print(np.less(x, y))\n",
        "\n",
        "# Create an element-wise comparison (less_equal) of two given arrays and print the result\n",
        "print(\"Element-wise comparison (less_equal):\")\n",
        "print(np.less_equal(x, y))\n"
      ],
      "metadata": {
        "colab": {
          "base_uri": "https://localhost:8080/"
        },
        "id": "G38WReii85fj",
        "outputId": "ab6ccc78-3451-46e6-a36f-5d1a300c699b"
      },
      "execution_count": null,
      "outputs": [
        {
          "output_type": "stream",
          "name": "stdout",
          "text": [
            "Original arrays:\n",
            "[1 2 3 4]\n",
            "[1 2 3 5]\n",
            "Element-wise comparison (greater):\n",
            "[False False False False]\n",
            "Element-wise comparison (greater_equal):\n",
            "[ True  True  True False]\n",
            "Element-wise comparison (less):\n",
            "[False False False  True]\n",
            "Element-wise comparison (less_equal):\n",
            "[ True  True  True  True]\n"
          ]
        }
      ]
    },
    {
      "cell_type": "markdown",
      "source": [
        "11. Write a NumPy program to create an element-wise comparison (equal, equal within a tolerance) of two given arrays."
      ],
      "metadata": {
        "id": "qV0NgZSL9IiU"
      }
    },
    {
      "cell_type": "code",
      "source": [
        "# 11. Write a NumPy program to create an element-wise comparison (equal, equal within a tolerance) of two given arrays.\n",
        "\n",
        "# Create two NumPy arrays 'x' and 'y'\n",
        "x = np.array([1, 2, 3, 4])\n",
        "y = np.array([1.0001, 2.0002, 3.0003, 4.0004])\n",
        "\n",
        "# Print the original arrays\n",
        "print(\"Original arrays:\")\n",
        "print(x)\n",
        "print(y)\n",
        "\n",
        "# Create an element-wise comparison (equal) of two given arrays and print the result\n",
        "print(\"Element-wise comparison (equal):\")\n",
        "print(np.equal(x, y))\n",
        "\n",
        "# Create an element-wise comparison (equal within a tolerance) of two given arrays and print the result\n",
        "print(\"Element-wise comparison (equal within a tolerance):\")\n",
        "print(np.isclose(x, y, atol=0.0005))\n",
        "\n"
      ],
      "metadata": {
        "id": "whGE3Mnk9ISb",
        "colab": {
          "base_uri": "https://localhost:8080/",
          "height": 211
        },
        "outputId": "d2cd3143-ff07-4605-ec1f-c2678cc05a03"
      },
      "execution_count": 1,
      "outputs": [
        {
          "output_type": "error",
          "ename": "NameError",
          "evalue": "name 'np' is not defined",
          "traceback": [
            "\u001b[0;31m---------------------------------------------------------------------------\u001b[0m",
            "\u001b[0;31mNameError\u001b[0m                                 Traceback (most recent call last)",
            "\u001b[0;32m<ipython-input-1-4e35624bdc8c>\u001b[0m in \u001b[0;36m<cell line: 4>\u001b[0;34m()\u001b[0m\n\u001b[1;32m      2\u001b[0m \u001b[0;34m\u001b[0m\u001b[0m\n\u001b[1;32m      3\u001b[0m \u001b[0;31m# Create two NumPy arrays 'x' and 'y'\u001b[0m\u001b[0;34m\u001b[0m\u001b[0;34m\u001b[0m\u001b[0m\n\u001b[0;32m----> 4\u001b[0;31m \u001b[0mx\u001b[0m \u001b[0;34m=\u001b[0m \u001b[0mnp\u001b[0m\u001b[0;34m.\u001b[0m\u001b[0marray\u001b[0m\u001b[0;34m(\u001b[0m\u001b[0;34m[\u001b[0m\u001b[0;36m1\u001b[0m\u001b[0;34m,\u001b[0m \u001b[0;36m2\u001b[0m\u001b[0;34m,\u001b[0m \u001b[0;36m3\u001b[0m\u001b[0;34m,\u001b[0m \u001b[0;36m4\u001b[0m\u001b[0;34m]\u001b[0m\u001b[0;34m)\u001b[0m\u001b[0;34m\u001b[0m\u001b[0;34m\u001b[0m\u001b[0m\n\u001b[0m\u001b[1;32m      5\u001b[0m \u001b[0my\u001b[0m \u001b[0;34m=\u001b[0m \u001b[0mnp\u001b[0m\u001b[0;34m.\u001b[0m\u001b[0marray\u001b[0m\u001b[0;34m(\u001b[0m\u001b[0;34m[\u001b[0m\u001b[0;36m1.0001\u001b[0m\u001b[0;34m,\u001b[0m \u001b[0;36m2.0002\u001b[0m\u001b[0;34m,\u001b[0m \u001b[0;36m3.0003\u001b[0m\u001b[0;34m,\u001b[0m \u001b[0;36m4.0004\u001b[0m\u001b[0;34m]\u001b[0m\u001b[0;34m)\u001b[0m\u001b[0;34m\u001b[0m\u001b[0;34m\u001b[0m\u001b[0m\n\u001b[1;32m      6\u001b[0m \u001b[0;34m\u001b[0m\u001b[0m\n",
            "\u001b[0;31mNameError\u001b[0m: name 'np' is not defined"
          ]
        }
      ]
    },
    {
      "cell_type": "markdown",
      "source": [
        "12. Write a NumPy program to create an array with the values 1, 7, 13, 105 and determine the size of the memory occupied by the array."
      ],
      "metadata": {
        "id": "wgIrO8OqndRb"
      }
    },
    {
      "cell_type": "code",
      "source": [
        "#12. Write a NumPy program to create an array with the values 1, 7, 13, 105 and determine the size of the memory occupied by the array.\n",
        "\n",
        "import numpy as np\n",
        "\n",
        "# Create an array with the values 1, 7, 13, 105\n",
        "arr = np.array([1, 7, 13, 105])\n",
        "\n",
        "# Print the array\n",
        "print(arr)\n",
        "\n",
        "# Determine the size of the memory occupied by the array\n",
        "size_bytes = arr.nbytes\n",
        "size_kilobytes = size_bytes / 1024\n",
        "size_megabytes = size_kilobytes / 1024\n",
        "\n",
        "# Print the size of the memory occupied by the array in bytes, kilobytes, and megabytes\n",
        "print(f\"Size of the array in bytes: {size_bytes}\")\n",
        "print(f\"Size of the array in kilobytes: {size_kilobytes}\")\n",
        "print(f\"Size of the array in megabytes: {size_megabytes}\")\n"
      ],
      "metadata": {
        "colab": {
          "base_uri": "https://localhost:8080/"
        },
        "id": "a2iRrrOsnc8S",
        "outputId": "09aa9dc0-a730-410a-d367-a070fc0c58e6"
      },
      "execution_count": 2,
      "outputs": [
        {
          "output_type": "stream",
          "name": "stdout",
          "text": [
            "[  1   7  13 105]\n",
            "Size of the array in bytes: 32\n",
            "Size of the array in kilobytes: 0.03125\n",
            "Size of the array in megabytes: 3.0517578125e-05\n"
          ]
        }
      ]
    },
    {
      "cell_type": "markdown",
      "source": [
        "13. Write a NumPy program to create an array of 10 zeros, 10 ones, and 10 fives."
      ],
      "metadata": {
        "id": "tKoz8BWDoBmM"
      }
    },
    {
      "cell_type": "code",
      "source": [
        "#13. Write a NumPy program to create an array of 10 zeros, 10 ones, and 10 fives.\n",
        "\n",
        "# Create an array of 10 zeros\n",
        "zeros = np.zeros(10)\n",
        "\n",
        "# Create an array of 10 ones\n",
        "ones = np.ones(10)\n",
        "\n",
        "# Create an array of 10 fives\n",
        "fives = np.full(10, 5)\n",
        "\n",
        "# Combine the arrays\n",
        "combined_array = np.concatenate((zeros, ones, fives))\n",
        "\n",
        "# Print the combined array\n",
        "print(combined_array)"
      ],
      "metadata": {
        "colab": {
          "base_uri": "https://localhost:8080/"
        },
        "id": "yrnBNdNioRAI",
        "outputId": "bb92210f-dba1-4f6d-d751-8622da94cf70"
      },
      "execution_count": 3,
      "outputs": [
        {
          "output_type": "stream",
          "name": "stdout",
          "text": [
            "[0. 0. 0. 0. 0. 0. 0. 0. 0. 0. 1. 1. 1. 1. 1. 1. 1. 1. 1. 1. 5. 5. 5. 5.\n",
            " 5. 5. 5. 5. 5. 5.]\n"
          ]
        }
      ]
    },
    {
      "cell_type": "markdown",
      "source": [
        "14. Write a NumPy program to create an array of integers from 30 to 70.\n"
      ],
      "metadata": {
        "id": "MOumJ0pzoc2O"
      }
    },
    {
      "cell_type": "code",
      "source": [
        "#14. Write a NumPy program to create an array of integers from 30 to 70.\n",
        "\n",
        "import numpy as np\n",
        "\n",
        "# Create an array of integers from 30 to 70\n",
        "arr = np.arange(30, 71)\n",
        "\n",
        "# Print the array\n",
        "print(arr)\n"
      ],
      "metadata": {
        "colab": {
          "base_uri": "https://localhost:8080/"
        },
        "id": "kEwK1Dxloclx",
        "outputId": "b66a6689-13b6-4f46-d8a1-95732aee21c7"
      },
      "execution_count": 4,
      "outputs": [
        {
          "output_type": "stream",
          "name": "stdout",
          "text": [
            "[30 31 32 33 34 35 36 37 38 39 40 41 42 43 44 45 46 47 48 49 50 51 52 53\n",
            " 54 55 56 57 58 59 60 61 62 63 64 65 66 67 68 69 70]\n"
          ]
        }
      ]
    },
    {
      "cell_type": "markdown",
      "source": [
        "15.Write a NumPy program to create an array of all even integers from 30 to 70."
      ],
      "metadata": {
        "id": "abtDauIrouq4"
      }
    },
    {
      "cell_type": "code",
      "source": [
        "#  15.Write a NumPy program to create an array of all even integers from 30 to 70.\n",
        "\n",
        "# Create an array of all even integers from 30 to 70\n",
        "even_arr = np.arange(30, 71, 2)\n",
        "\n",
        "# Print the array\n",
        "print(even_arr)\n"
      ],
      "metadata": {
        "colab": {
          "base_uri": "https://localhost:8080/"
        },
        "id": "t7ppZE25ouZJ",
        "outputId": "c7577e23-2eea-4eff-dfae-0e49bcc682c6"
      },
      "execution_count": 5,
      "outputs": [
        {
          "output_type": "stream",
          "name": "stdout",
          "text": [
            "[30 32 34 36 38 40 42 44 46 48 50 52 54 56 58 60 62 64 66 68 70]\n"
          ]
        }
      ]
    },
    {
      "cell_type": "markdown",
      "source": [
        "16. Write a NumPy program to create a 3x3 identity matrix.\n"
      ],
      "metadata": {
        "id": "js75rnVqo8IP"
      }
    },
    {
      "cell_type": "code",
      "source": [
        "# 16. Write a NumPy program to create a 3x3 identity matrix.\n",
        "\n",
        "# Import the NumPy library\n",
        "import numpy as np\n",
        "\n",
        "# Create a 3x3 identity matrix\n",
        "identity_matrix1 = np.eye(3)\n",
        "identity_matrix2 = np.identity(3)\n",
        "\n",
        "# Print the identity matrix\n",
        "print(identity_matrix1)\n",
        "print(identity_matrix2)"
      ],
      "metadata": {
        "colab": {
          "base_uri": "https://localhost:8080/"
        },
        "id": "5XflcKyFo703",
        "outputId": "8b67da21-84a1-4c1d-e3d6-3f42260619bf"
      },
      "execution_count": 7,
      "outputs": [
        {
          "output_type": "stream",
          "name": "stdout",
          "text": [
            "[[1. 0. 0.]\n",
            " [0. 1. 0.]\n",
            " [0. 0. 1.]]\n",
            "[[1. 0. 0.]\n",
            " [0. 1. 0.]\n",
            " [0. 0. 1.]]\n"
          ]
        }
      ]
    },
    {
      "cell_type": "markdown",
      "source": [
        "17. Write a NumPy program to generate a random number between 0 and 1."
      ],
      "metadata": {
        "id": "cB4-qQOlpdPT"
      }
    },
    {
      "cell_type": "code",
      "source": [
        "# 17. Write a NumPy program to generate a random number between 0 and 1.\n",
        "\n",
        "import numpy as np\n",
        "\n",
        "# Generate a random number between 0 and 1\n",
        "random_number = np.random.rand(1)\n",
        "\n",
        "# Print the random number\n",
        "print(random_number)\n"
      ],
      "metadata": {
        "colab": {
          "base_uri": "https://localhost:8080/"
        },
        "id": "OjTRERBmpc8K",
        "outputId": "1343d19c-061c-431c-9037-7a4b0c861e29"
      },
      "execution_count": 8,
      "outputs": [
        {
          "output_type": "stream",
          "name": "stdout",
          "text": [
            "[0.23551119]\n"
          ]
        }
      ]
    },
    {
      "cell_type": "markdown",
      "source": [
        "18. Write a NumPy program to generate an array of 15 random numbers from a standard normal distribution."
      ],
      "metadata": {
        "id": "3V0ZN8aipwyp"
      }
    },
    {
      "cell_type": "code",
      "source": [
        "# 18.Write a NumPy program to generate an array of 15 random numbers from a standard normal distribution.\n",
        "\n",
        "# Import the NumPy library\n",
        "import numpy as np\n",
        "\n",
        "# Generate an array of 15 random numbers from a standard normal distribution\n",
        "random_numbers = np.random.randn(15) #or np.random.normal(0, 1, 15)\n",
        "\n",
        "# Print the array\n",
        "print(random_numbers)\n"
      ],
      "metadata": {
        "colab": {
          "base_uri": "https://localhost:8080/"
        },
        "id": "b-_yot7hpwOR",
        "outputId": "3edfca2f-90ab-4e4a-e26b-2a8644717bc3"
      },
      "execution_count": 9,
      "outputs": [
        {
          "output_type": "stream",
          "name": "stdout",
          "text": [
            "[-0.98889713 -0.37625264 -0.10414217  0.88602277  0.74436146 -0.27831449\n",
            " -0.12398265 -0.82700432 -0.86480662  0.73832657  1.11392878  0.8785762\n",
            " -0.50654496  0.19367525 -0.27992645]\n"
          ]
        }
      ]
    },
    {
      "cell_type": "markdown",
      "source": [
        "19. Write a NumPy program to create a vector with values ranging from 15 to 55 and print all values except the first and last."
      ],
      "metadata": {
        "id": "PRamvzierndU"
      }
    },
    {
      "cell_type": "code",
      "source": [
        "#19. Write a NumPy program to create a vector with values ranging from 15 to 55 and print all values except the first and last.\n",
        "\n",
        "import numpy as np\n",
        "\n",
        "# Create a vector with values ranging from 15 to 55\n",
        "vector = np.arange(15, 56)\n",
        "\n",
        "# Print all values except the first and last\n",
        "print(vector[1:-1])\n"
      ],
      "metadata": {
        "colab": {
          "base_uri": "https://localhost:8080/"
        },
        "id": "9DCOQp9CrnLr",
        "outputId": "d23c9197-323c-4cc7-a4ee-f9d0ef70ae97"
      },
      "execution_count": 10,
      "outputs": [
        {
          "output_type": "stream",
          "name": "stdout",
          "text": [
            "[16 17 18 19 20 21 22 23 24 25 26 27 28 29 30 31 32 33 34 35 36 37 38 39\n",
            " 40 41 42 43 44 45 46 47 48 49 50 51 52 53 54]\n"
          ]
        }
      ]
    },
    {
      "cell_type": "markdown",
      "source": [
        "20. Write a NumPy program to create a 3X4 array and iterate over it."
      ],
      "metadata": {
        "id": "CakYKHOgsMYV"
      }
    },
    {
      "cell_type": "code",
      "source": [
        "# 20. Write a NumPy program to create a 3X4 array and iterate over it.\n",
        "\n",
        "import numpy as np\n",
        "\n",
        "# Create a 3x4 array\n",
        "arr = np.array([[1, 2, 3, 4], [5, 6, 7, 8], [9, 10, 11, 12]])\n",
        "\n",
        "# Iterate over the array using a for loop\n",
        "for row in arr:\n",
        "  for col in row:\n",
        "    print(col)\n"
      ],
      "metadata": {
        "colab": {
          "base_uri": "https://localhost:8080/"
        },
        "id": "A7PQYKtmsMFP",
        "outputId": "c0875e2c-8d45-4cb1-a62a-56f3e4082993"
      },
      "execution_count": 11,
      "outputs": [
        {
          "output_type": "stream",
          "name": "stdout",
          "text": [
            "1\n",
            "2\n",
            "3\n",
            "4\n",
            "5\n",
            "6\n",
            "7\n",
            "8\n",
            "9\n",
            "10\n",
            "11\n",
            "12\n"
          ]
        }
      ]
    },
    {
      "cell_type": "markdown",
      "source": [
        "21. Write a NumPy program to create a vector of length 10 with values evenly distributed between 5 and 50."
      ],
      "metadata": {
        "id": "qsaovRMgshH1"
      }
    },
    {
      "cell_type": "code",
      "source": [
        "# 21. Write a NumPy program to create a vector of length 10 with values evenly distributed between 5 and 50.\n",
        "\n",
        "import numpy as np\n",
        "\n",
        "# Create a vector of length 10 with values evenly distributed between 5 and 50\n",
        "vector = np.linspace(5, 50, 10)\n",
        "\n",
        "# Print the vector\n",
        "print(vector)\n"
      ],
      "metadata": {
        "colab": {
          "base_uri": "https://localhost:8080/"
        },
        "id": "h_ePOJl9sg5T",
        "outputId": "cffbc17f-4031-4836-d34c-f909ab0da5d8"
      },
      "execution_count": 12,
      "outputs": [
        {
          "output_type": "stream",
          "name": "stdout",
          "text": [
            "[ 5. 10. 15. 20. 25. 30. 35. 40. 45. 50.]\n"
          ]
        }
      ]
    },
    {
      "cell_type": "markdown",
      "source": [
        "22. Write a NumPy program to create a vector with values from 0 to 20 and change the sign of the numbers in the range from 9 to 15."
      ],
      "metadata": {
        "id": "W8k-LJRkzi-k"
      }
    },
    {
      "cell_type": "code",
      "source": [
        "#22. Write a NumPy program to create a vector with values from 0 to 20 and change the sign of the numbers in the range from 9 to 15.\n",
        "\n",
        "import numpy as np\n",
        "\n",
        "# Create a vector with values from 0 to 20\n",
        "vector = np.arange(0, 21)\n",
        "\n",
        "# Change the sign of the numbers in the range from 9 to 15\n",
        "vector[9:16] *= -1\n",
        "\n",
        "# Print the vector\n",
        "print(vector)\n"
      ],
      "metadata": {
        "colab": {
          "base_uri": "https://localhost:8080/"
        },
        "id": "xd0IsMgEziv7",
        "outputId": "67f191d0-0be9-4b87-fcfe-96a3ab5995a1"
      },
      "execution_count": 13,
      "outputs": [
        {
          "output_type": "stream",
          "name": "stdout",
          "text": [
            "[  0   1   2   3   4   5   6   7   8  -9 -10 -11 -12 -13 -14 -15  16  17\n",
            "  18  19  20]\n"
          ]
        }
      ]
    },
    {
      "cell_type": "markdown",
      "source": [
        "23. Write a NumPy program to create a vector of length 5 filled with arbitrary integers from 0 to 10.\n"
      ],
      "metadata": {
        "id": "M4cyggty0kGv"
      }
    },
    {
      "cell_type": "code",
      "source": [
        "# prompt: 23. Write a NumPy program to create a vector of length 5 filled with arbitrary integers from 0 to 10.\n",
        "\n",
        "import numpy as np\n",
        "\n",
        "# Create a vector of length 5 filled with arbitrary integers from 0 to 10\n",
        "vector = np.random.randint(0, 11, size=5)\n",
        "\n",
        "# Print the vector\n",
        "print(vector)\n"
      ],
      "metadata": {
        "colab": {
          "base_uri": "https://localhost:8080/"
        },
        "id": "sOcKyNkn0jzE",
        "outputId": "a4092d59-3789-4fe6-bb40-ab26209cd264"
      },
      "execution_count": 14,
      "outputs": [
        {
          "output_type": "stream",
          "name": "stdout",
          "text": [
            "[2 9 9 6 9]\n"
          ]
        }
      ]
    },
    {
      "cell_type": "markdown",
      "source": [
        "24. Write a NumPy program to multiply the values of two given vectors."
      ],
      "metadata": {
        "id": "d6XXLeiu063F"
      }
    },
    {
      "cell_type": "code",
      "source": [
        "# 24. Write a NumPy program to multiply the values of two given vectors.\n",
        "\n",
        "import numpy as np\n",
        "\n",
        "# Create two vectors\n",
        "vector1 = np.array([1, 2, 3, 4])\n",
        "vector2 = np.array([5, 6, 7, 8])\n",
        "\n",
        "# Multiply the values of two vectors\n",
        "result = np.multiply(vector1, vector2)\n",
        "\n",
        "# Print the result\n",
        "print(result)\n"
      ],
      "metadata": {
        "colab": {
          "base_uri": "https://localhost:8080/"
        },
        "id": "UZFcMlzd06id",
        "outputId": "cfa13a64-3358-4782-8dcd-81fd23e07fb7"
      },
      "execution_count": 15,
      "outputs": [
        {
          "output_type": "stream",
          "name": "stdout",
          "text": [
            "[ 5 12 21 32]\n"
          ]
        }
      ]
    },
    {
      "cell_type": "markdown",
      "source": [
        "25. Write a NumPy program to create a 3x4 matrix filled with values from 10 to 21."
      ],
      "metadata": {
        "id": "2Xo2mgEA1Zqf"
      }
    },
    {
      "cell_type": "code",
      "source": [
        "# prompt: 25. Write a NumPy program to create a 3x4 matrix filled with values from 10 to 21.\n",
        "\n",
        "# Create a 3x4 matrix filled with values from 10 to 21\n",
        "matrix = np.arange(10, 22).reshape(3, 4)\n",
        "\n",
        "# Print the matrix\n",
        "print(matrix)\n"
      ],
      "metadata": {
        "colab": {
          "base_uri": "https://localhost:8080/"
        },
        "id": "MBXqj0xu1ZZo",
        "outputId": "3a0b95f0-6b8f-4e35-afeb-e14de3da32e0"
      },
      "execution_count": 16,
      "outputs": [
        {
          "output_type": "stream",
          "name": "stdout",
          "text": [
            "[[10 11 12 13]\n",
            " [14 15 16 17]\n",
            " [18 19 20 21]]\n"
          ]
        }
      ]
    },
    {
      "cell_type": "markdown",
      "source": [
        "26. Write a NumPy program to find the number of rows and columns in a given matrix."
      ],
      "metadata": {
        "id": "V22dV-Tx1uDv"
      }
    },
    {
      "cell_type": "code",
      "source": [
        "# prompt: 26. Write a NumPy program to find the number of rows and columns in a given matrix.\n",
        "\n",
        "import numpy as np\n",
        "\n",
        "# Create a matrix\n",
        "matrix = np.array([[1, 2, 3], [4, 5, 6], [7, 8, 9]])\n",
        "\n",
        "# Find the number of rows and columns in the matrix\n",
        "rows, columns = matrix.shape\n",
        "\n",
        "# Print the number of rows and columns\n",
        "print(\"Number of rows:\", rows)\n",
        "print(\"Number of columns:\", columns)\n"
      ],
      "metadata": {
        "colab": {
          "base_uri": "https://localhost:8080/"
        },
        "id": "ddKeNXTZ1t2M",
        "outputId": "42a3d79b-d3a0-4160-d0e6-17bd84312ab0"
      },
      "execution_count": 18,
      "outputs": [
        {
          "output_type": "stream",
          "name": "stdout",
          "text": [
            "Number of rows: 3\n",
            "Number of columns: 3\n"
          ]
        }
      ]
    },
    {
      "cell_type": "markdown",
      "source": [
        "27. Write a NumPy program to create a 3x3 identity matrix, i.e. the diagonal elements are 1, the rest are 0."
      ],
      "metadata": {
        "id": "UGPLIWkn19gW"
      }
    },
    {
      "cell_type": "code",
      "source": [
        "# prompt: 27. Write a NumPy program to create a 3x3 identity matrix, i.e. the diagonal elements are 1, the rest are 0.\n",
        "\n",
        "import numpy as np\n",
        "\n",
        "# Create a 3x3 identity matrix\n",
        "identity_matrix = np.eye(3)\n",
        "\n",
        "# Print the identity matrix\n",
        "print(identity_matrix)\n"
      ],
      "metadata": {
        "colab": {
          "base_uri": "https://localhost:8080/"
        },
        "id": "JWgruapY19Sd",
        "outputId": "4789515d-404b-4a8f-b43d-886377a5cae9"
      },
      "execution_count": 19,
      "outputs": [
        {
          "output_type": "stream",
          "name": "stdout",
          "text": [
            "[[1. 0. 0.]\n",
            " [0. 1. 0.]\n",
            " [0. 0. 1.]]\n"
          ]
        }
      ]
    },
    {
      "cell_type": "markdown",
      "source": [
        "28. Write a NumPy program to create a 10x10 matrix, in which the elements on the borders will be equal to 1, and inside 0."
      ],
      "metadata": {
        "id": "oKqPWDAL2Plf"
      }
    },
    {
      "cell_type": "code",
      "source": [
        "# prompt: 28. Write a NumPy program to create a 10x10 matrix, in which the elements on the borders will be equal to 1, and inside 0.\n",
        "\n",
        "import numpy as np\n",
        "\n",
        "# Create a 10x10 matrix filled with zeros\n",
        "matrix = np.zeros((10, 10))\n",
        "\n",
        "# Set the elements on the borders to 1\n",
        "matrix[0, :] = 1\n",
        "matrix[-1, :] = 1\n",
        "matrix[:, 0] = 1\n",
        "matrix[:, -1] = 1\n",
        "\n",
        "# Print the matrix\n",
        "print(matrix)\n"
      ],
      "metadata": {
        "colab": {
          "base_uri": "https://localhost:8080/"
        },
        "id": "mvGj8QWa2PWS",
        "outputId": "eca020f9-25ff-4d94-b381-6a46d581187c"
      },
      "execution_count": 22,
      "outputs": [
        {
          "output_type": "stream",
          "name": "stdout",
          "text": [
            "[[1. 1. 1. 1. 1. 1. 1. 1. 1. 1.]\n",
            " [1. 0. 0. 0. 0. 0. 0. 0. 0. 1.]\n",
            " [1. 0. 0. 0. 0. 0. 0. 0. 0. 1.]\n",
            " [1. 0. 0. 0. 0. 0. 0. 0. 0. 1.]\n",
            " [1. 0. 0. 0. 0. 0. 0. 0. 0. 1.]\n",
            " [1. 0. 0. 0. 0. 0. 0. 0. 0. 1.]\n",
            " [1. 0. 0. 0. 0. 0. 0. 0. 0. 1.]\n",
            " [1. 0. 0. 0. 0. 0. 0. 0. 0. 1.]\n",
            " [1. 0. 0. 0. 0. 0. 0. 0. 0. 1.]\n",
            " [1. 1. 1. 1. 1. 1. 1. 1. 1. 1.]]\n"
          ]
        }
      ]
    },
    {
      "cell_type": "markdown",
      "source": [
        "29. Write a NumPy program to create a 5x5 zero matrix with elements on the main diagonal equal to 1, 2, 3, 4, 5."
      ],
      "metadata": {
        "id": "gqEnHJpf2yHR"
      }
    },
    {
      "cell_type": "code",
      "source": [
        "# prompt: 29. Write a NumPy program to create a 5x5 zero matrix with elements on the main diagonal equal to 1, 2, 3, 4, 5.\n",
        "\n",
        "import numpy as np\n",
        "\n",
        "# Create a 5x5 zero matrix\n",
        "matrix = np.zeros((5, 5))\n",
        "\n",
        "# Set the elements on the main diagonal to 1, 2, 3, 4, 5\n",
        "np.fill_diagonal(matrix, range(1, 6))\n",
        "\n",
        "# Print the matrix\n",
        "print(matrix)\n"
      ],
      "metadata": {
        "colab": {
          "base_uri": "https://localhost:8080/"
        },
        "id": "qI5KwN492x5c",
        "outputId": "3d3e0d77-12c6-415d-e036-062100091747"
      },
      "execution_count": 23,
      "outputs": [
        {
          "output_type": "stream",
          "name": "stdout",
          "text": [
            "[[1. 0. 0. 0. 0.]\n",
            " [0. 2. 0. 0. 0.]\n",
            " [0. 0. 3. 0. 0.]\n",
            " [0. 0. 0. 4. 0.]\n",
            " [0. 0. 0. 0. 5.]]\n"
          ]
        }
      ]
    },
    {
      "cell_type": "markdown",
      "source": [
        "30. Write a NumPy program to create a 4x4 matrix in which 0 and 1 are staggered, with zeros on the main diagonal."
      ],
      "metadata": {
        "id": "hhV7EZv034Fn"
      }
    },
    {
      "cell_type": "code",
      "source": [
        "# prompt: 30. Write a NumPy program to create a 4x4 matrix in which 0 and 1 are staggered, with zeros on the main diagonal.\n",
        "\n",
        "import numpy as np\n",
        "\n",
        "# Create a 4x4 matrix filled with zeros\n",
        "matrix = np.zeros((4, 4))\n",
        "\n",
        "# Set the elements in a staggered pattern\n",
        "matrix[::2, 1::2] = 1\n",
        "matrix[1::2, ::2] = 1\n",
        "\n",
        "# Print the matrix\n",
        "\n",
        "print(matrix)\n"
      ],
      "metadata": {
        "colab": {
          "base_uri": "https://localhost:8080/"
        },
        "id": "OsYtaDG0334P",
        "outputId": "820c356b-eaa3-4f82-8f1b-65dc8d9f1d97"
      },
      "execution_count": 26,
      "outputs": [
        {
          "output_type": "stream",
          "name": "stdout",
          "text": [
            "[[0. 1. 0. 1.]\n",
            " [1. 0. 1. 0.]\n",
            " [0. 1. 0. 1.]\n",
            " [1. 0. 1. 0.]]\n"
          ]
        }
      ]
    },
    {
      "cell_type": "code",
      "source": [
        "n=np.arange(1,17).reshape(4,4)\n",
        "print(n)\n",
        "n[::2, 1::2]"
      ],
      "metadata": {
        "colab": {
          "base_uri": "https://localhost:8080/"
        },
        "id": "QLiL6qT84cGZ",
        "outputId": "fe0df102-9622-4eb0-f700-96ae4ac7341f"
      },
      "execution_count": 37,
      "outputs": [
        {
          "output_type": "stream",
          "name": "stdout",
          "text": [
            "[[ 1  2  3  4]\n",
            " [ 5  6  7  8]\n",
            " [ 9 10 11 12]\n",
            " [13 14 15 16]]\n"
          ]
        },
        {
          "output_type": "execute_result",
          "data": {
            "text/plain": [
              "array([[ 2,  4],\n",
              "       [10, 12]])"
            ]
          },
          "metadata": {},
          "execution_count": 37
        }
      ]
    },
    {
      "cell_type": "markdown",
      "source": [
        "31. Write a NumPy program to create a 3x3x3 array filled with arbitrary values."
      ],
      "metadata": {
        "id": "3THGWTda6FE-"
      }
    },
    {
      "cell_type": "code",
      "source": [
        "# prompt: 31. Write a NumPy program to create a 3x3x3 array filled with arbitrary values.\n",
        "\n",
        "import numpy as np\n",
        "\n",
        "# Create a 3x3x3 array filled with arbitrary values\n",
        "array = np.random.rand(3, 3, 3)\n",
        "\n",
        "# Print the array\n",
        "print(array)\n"
      ],
      "metadata": {
        "colab": {
          "base_uri": "https://localhost:8080/"
        },
        "id": "cNoiQ1CR6E1Z",
        "outputId": "10fd2992-fe8e-4f04-baa7-602c4d528d12"
      },
      "execution_count": 38,
      "outputs": [
        {
          "output_type": "stream",
          "name": "stdout",
          "text": [
            "[[[0.73719466 0.67788955 0.79745171]\n",
            "  [0.78398122 0.91845427 0.61486704]\n",
            "  [0.86884215 0.57756609 0.55474803]]\n",
            "\n",
            " [[0.2696379  0.36245437 0.3254424 ]\n",
            "  [0.89310656 0.15481563 0.29543513]\n",
            "  [0.96877635 0.05770937 0.52403406]]\n",
            "\n",
            " [[0.06446062 0.03004322 0.43825152]\n",
            "  [0.09032721 0.53145754 0.40950852]\n",
            "  [0.6803741  0.86726718 0.56645733]]]\n"
          ]
        }
      ]
    },
    {
      "cell_type": "markdown",
      "source": [
        "32. Write a NumPy program to compute the sum of all elements, the sum of each column and the sum of each row in a given array."
      ],
      "metadata": {
        "id": "eckTQzJ86a4n"
      }
    },
    {
      "cell_type": "code",
      "source": [
        "# prompt: 32. Write a NumPy program to compute the sum of all elements, the sum of each column and the sum of each row in a given array.\n",
        "\n",
        "import numpy as np\n",
        "\n",
        "# Create a random array\n",
        "array = np.random.randint(1, 10, size=(3, 3))\n",
        "\n",
        "# Compute the sum of all elements\n",
        "sum_of_all_elements = np.sum(array)\n",
        "\n",
        "# Compute the sum of each column\n",
        "sum_of_columns = np.sum(array, axis=0)\n",
        "\n",
        "# Compute the sum of each row\n",
        "sum_of_rows = np.sum(array, axis=1)\n",
        "\n",
        "# Print the results\n",
        "print(\"Sum of all elements:\", sum_of_all_elements)\n",
        "print(\"Sum of each column:\", sum_of_columns)\n",
        "print(\"Sum of each row:\", sum_of_rows)\n",
        "sum_of_columns.sum()\n"
      ],
      "metadata": {
        "colab": {
          "base_uri": "https://localhost:8080/"
        },
        "id": "C9r2W34K6ZFV",
        "outputId": "89804a09-9342-4d3f-b4c8-5f1a2d80a0c6"
      },
      "execution_count": 40,
      "outputs": [
        {
          "output_type": "stream",
          "name": "stdout",
          "text": [
            "Sum of all elements: 44\n",
            "Sum of each column: [12 21 11]\n",
            "Sum of each row: [16 13 15]\n"
          ]
        },
        {
          "output_type": "execute_result",
          "data": {
            "text/plain": [
              "44"
            ]
          },
          "metadata": {},
          "execution_count": 40
        }
      ]
    },
    {
      "cell_type": "markdown",
      "source": [
        "33. Write a NumPy program to compute the inner product of two given vectors."
      ],
      "metadata": {
        "id": "mssaYQws6-8Q"
      }
    },
    {
      "cell_type": "code",
      "source": [
        "# prompt: 33. Write a NumPy program to compute the inner product of two given vectors.\n",
        "\n",
        "import numpy as np\n",
        "\n",
        "# Define two vectors\n",
        "vector1 = np.array([1, 2, 3])\n",
        "vector2 = np.array([4, 5, 6])\n",
        "\n",
        "# Compute the inner product of two vectors\n",
        "inner_product = np.dot(vector1, vector2)\n",
        "\n",
        "# Print the inner product\n",
        "print(\"Inner product of two vectors:\", inner_product)\n"
      ],
      "metadata": {
        "colab": {
          "base_uri": "https://localhost:8080/"
        },
        "id": "BWOl4Dyz6-ro",
        "outputId": "4a1708d2-4b43-4207-ceb5-c0c82c6861f8"
      },
      "execution_count": 41,
      "outputs": [
        {
          "output_type": "stream",
          "name": "stdout",
          "text": [
            "Inner product of two vectors: 32\n"
          ]
        }
      ]
    },
    {
      "cell_type": "markdown",
      "source": [
        "34. Write a NumPy program to add a vector to each row of a given matrix."
      ],
      "metadata": {
        "id": "KC9Fknhb7frk"
      }
    },
    {
      "cell_type": "code",
      "source": [
        "# prompt: 34. Write a NumPy program to add a vector to each row of a given matrix.\n",
        "\n",
        "import numpy as np\n",
        "\n",
        "# Define a matrix\n",
        "matrix = np.array([[1, 2, 3], [4, 5, 6]])\n",
        "\n",
        "# Define a vector\n",
        "vector = np.array([7, 8, 9])\n",
        "\n",
        "# Add the vector to each row of the matrix\n",
        "matrix_with_vector_added = matrix + vector\n",
        "\n",
        "# Print the resulting matrix\n",
        "print(matrix_with_vector_added)\n"
      ],
      "metadata": {
        "colab": {
          "base_uri": "https://localhost:8080/"
        },
        "id": "d6FkDMtX7fbU",
        "outputId": "79450d45-bb77-427c-db30-b4c65d7f6689"
      },
      "execution_count": 43,
      "outputs": [
        {
          "output_type": "stream",
          "name": "stdout",
          "text": [
            "[[ 8 10 12]\n",
            " [11 13 15]]\n"
          ]
        }
      ]
    }
  ]
}